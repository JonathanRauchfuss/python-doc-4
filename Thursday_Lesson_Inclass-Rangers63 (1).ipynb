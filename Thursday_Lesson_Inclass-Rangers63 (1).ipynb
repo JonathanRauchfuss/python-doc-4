{
 "cells": [
  {
   "cell_type": "markdown",
   "metadata": {},
   "source": [
    "# Object-Oriented-Programming (OOP)"
   ]
  },
  {
   "cell_type": "markdown",
   "metadata": {},
   "source": [
    "## Tasks Today:\n",
    "\n",
    "   \n",
    "\n",
    "1) <b>Creating a Class (Initializing/Declaring)</b> <br>\n",
    "2) <b>Using a Class (Instantiating)</b> <br>\n",
    " &nbsp;&nbsp;&nbsp;&nbsp; a) Creating One Instance <br>\n",
    " &nbsp;&nbsp;&nbsp;&nbsp; b) Creating Multiple Instances <br>\n",
    " &nbsp;&nbsp;&nbsp;&nbsp; c) In-Class Exercise #1 - Create a Class 'Car' and instantiate three different makes of cars <br>\n",
    "3) <b>The \\__init\\__() Method</b> <br>\n",
    " &nbsp;&nbsp;&nbsp;&nbsp; a) The 'self' Attribute <br>\n",
    "4) <b>Class Attributes</b> <br>\n",
    " &nbsp;&nbsp;&nbsp;&nbsp; a) Initializing Attributes <br>\n",
    " &nbsp;&nbsp;&nbsp;&nbsp; b) Setting an Attribute Outside of the \\__init\\__() Method <br>\n",
    " &nbsp;&nbsp;&nbsp;&nbsp; c) Setting Defaults for Attributes <br>\n",
    " &nbsp;&nbsp;&nbsp;&nbsp; d) Accessing Class Attributes <br>\n",
    " &nbsp;&nbsp;&nbsp;&nbsp; e) Changing Class Attributes <br>\n",
    " &nbsp;&nbsp;&nbsp;&nbsp; f) In-Class Exercise #2 - Add a color and wheels attribute to your 'Car' class <br>\n",
    "5) <b>Class Methods</b> <br>\n",
    " &nbsp;&nbsp;&nbsp;&nbsp; a) Creating <br>\n",
    " &nbsp;&nbsp;&nbsp;&nbsp; b) Calling <br>\n",
    " &nbsp;&nbsp;&nbsp;&nbsp; c) Modifying an Attribute's Value Through a Method <br>\n",
    " &nbsp;&nbsp;&nbsp;&nbsp; d) Incrementing an Attribute's Value Through a Method <br>\n",
    " &nbsp;&nbsp;&nbsp;&nbsp; e) In-Class Exercise #3 - Add a method that prints the cars color and wheel number, then call them <br>\n",
    "6) <b>Inheritance</b> <br>\n",
    " &nbsp;&nbsp;&nbsp;&nbsp; a) Syntax for Inheriting from a Parent Class <br>\n",
    " &nbsp;&nbsp;&nbsp;&nbsp; b) The \\__init\\__() Method for a Child Class (super()) <br>\n",
    " &nbsp;&nbsp;&nbsp;&nbsp; c) Defining Attributes and Methods for the Child Class <br>\n",
    " &nbsp;&nbsp;&nbsp;&nbsp; d) Method Overriding <br>\n",
    " &nbsp;&nbsp;&nbsp;&nbsp; e) In-Class Exercise #4 - Create a class 'Ford' that inherits from 'Car' class and initialize it as a Blue Ford Explorer with 4 wheels using the super() method <br>\n",
    "7) <b>Classes as Attributes</b> <br>\n",
    "8) <b>Exercises</b> <br>\n",
    " &nbsp;&nbsp;&nbsp;&nbsp; a) Exercise #1 - Turn the shopping cart program from yesterday into an object-oriented program <br>"
   ]
  },
  {
   "cell_type": "markdown",
   "metadata": {},
   "source": [
    "## Creating a Class (Initializing/Declaring)\n",
    "<p>When creating a class, function, or even a variable you are initializing that object. Initializing and Declaring occur at the same time in Python, whereas in lower level languages you have to declare an object before initializing it. This is the first step in the process of using a class.</p>"
   ]
  },
  {
   "cell_type": "code",
   "execution_count": 4,
   "metadata": {},
   "outputs": [],
   "source": [
    "# here we are creating a class which is just a blueprint that can be added to an object\n",
    "# it is similar to adding a class to html object \n",
    "\n",
    "class Car():\n",
    "    wheels = 4\n",
    "    color = 'blue'"
   ]
  },
  {
   "cell_type": "markdown",
   "metadata": {},
   "source": [
    "## Using a Class (Instantiating)\n",
    "<p>The process of creating a class is called <i>Instantiating</i>. Each time you create a variable of that type of class, it is referred to as an <i>Instance</i> of that class. This is the second step in the process of using a class.</p>"
   ]
  },
  {
   "cell_type": "markdown",
   "metadata": {},
   "source": [
    "##### Creating One Instance"
   ]
  },
  {
   "cell_type": "code",
   "execution_count": 7,
   "metadata": {},
   "outputs": [
    {
     "name": "stdout",
     "output_type": "stream",
     "text": [
      "blue\n"
     ]
    }
   ],
   "source": [
    "#here we are assigning the car class we created to an object called ford \n",
    "# so the information we stored in our class now gets tagged onto the ford object \n",
    "\n",
    "ford = Car()\n",
    "\n",
    "print(ford.color)"
   ]
  },
  {
   "cell_type": "markdown",
   "metadata": {},
   "source": [
    "##### Creating Multiple Instances"
   ]
  },
  {
   "cell_type": "code",
   "execution_count": 11,
   "metadata": {},
   "outputs": [
    {
     "name": "stdout",
     "output_type": "stream",
     "text": [
      "blue\n"
     ]
    }
   ],
   "source": [
    "chevy= Car()\n",
    "honda= Car()\n",
    "porsche= Car()\n",
    "\n",
    "print(porsche.color)"
   ]
  },
  {
   "cell_type": "markdown",
   "metadata": {},
   "source": [
    "##### In-Class Exercise #1 - Create a Class 'Car' and Instantiate three different makes of cars"
   ]
  },
  {
   "cell_type": "code",
   "execution_count": 22,
   "metadata": {},
   "outputs": [
    {
     "name": "stdout",
     "output_type": "stream",
     "text": [
      "2\n",
      "pink\n",
      "4\n"
     ]
    }
   ],
   "source": [
    "class Car():\n",
    "    doors=2\n",
    "    color=\"pink\"\n",
    "    wheels=4\n",
    "\n",
    "nissan = Car()\n",
    "toyota= Car()\n",
    "geo= Car()\n",
    "\n",
    "print(nissan.doors)\n",
    "print(geo.color)\n",
    "print(toyota.wheels)"
   ]
  },
  {
   "cell_type": "markdown",
   "metadata": {},
   "source": [
    "## The \\__init\\__() Method <br>\n",
    "<p>This method is used in almost every created class, and called only once upon the creation of the class instance. This method will initialize all variables needed for the object.</p>"
   ]
  },
  {
   "cell_type": "code",
   "execution_count": 50,
   "metadata": {},
   "outputs": [
    {
     "name": "stdout",
     "output_type": "stream",
     "text": [
      "black\n",
      "6\n"
     ]
    }
   ],
   "source": [
    "# a method is a function inside of a class \n",
    "\n",
    "class Car():\n",
    "    engine=\"4.7L\"\n",
    "\n",
    "    def __init__(self,color,wheels):\n",
    "        self.color=color\n",
    "        self.wheels=wheels \n",
    "\n",
    "# using this init method well be able to actually change the values of the self.attributes\n",
    "#example \n",
    "\n",
    "mazda= Car(\"black\",4)\n",
    "subaru=Car(\"blue\",6)\n",
    "\n",
    "print(mazda.color)\n",
    "print(subaru.wheels)\n"
   ]
  },
  {
   "cell_type": "markdown",
   "metadata": {},
   "source": [
    "##### The 'self' Attribute <br>\n",
    "<p>This attribute is required to keep track of specific instance's attributes. Without the self attribute, the program would not know how to reference or keep track of an instance's attributes.</p>"
   ]
  },
  {
   "cell_type": "code",
   "execution_count": 98,
   "metadata": {},
   "outputs": [
    {
     "data": {
      "text/plain": [
       "'rock on climber!'"
      ]
     },
     "execution_count": 98,
     "metadata": {},
     "output_type": "execute_result"
    }
   ],
   "source": [
    "# if you add your self inputs on your init it will pass that infomation into all of the following\n",
    "# functions that have self.whatever as thier input \n",
    "# so here were putting in \"yes\" and \"dirty\" as our inputs and that gets passed into the wash dishes \n",
    "# and rock climbing functions if we call them you can see were returning specific things that we want\n",
    "# according to our input\n",
    "\n",
    "class House():\n",
    "\n",
    "    def __init__(self,wall,dishes):\n",
    "        self.wall=wall\n",
    "        self.dishes=dishes\n",
    "    \n",
    "    def washDishes(self):\n",
    "        if self.dishes ==\"dirty\":\n",
    "            return 'clean'\n",
    "\n",
    "    def rockClimbingWall(self):\n",
    "        if self.wall ==\"yes\":\n",
    "            return \"rock on climber!\"\n",
    "        else:\n",
    "            return \"why on earth...\"\n",
    "\n",
    "\n",
    "jons_house= House(\"yes\",\"dirty\")\n",
    "jons_house.rockClimbingWall()"
   ]
  },
  {
   "cell_type": "markdown",
   "metadata": {},
   "source": [
    "## Class Attributes <br>\n",
    "<p>While variables are inside of a class, they are referred to as attributes and not variables. When someone says 'attribute' you know they're speaking about a class. Attributes can be initialized through the init method, or outside of it.</p>"
   ]
  },
  {
   "cell_type": "markdown",
   "metadata": {},
   "source": [
    "##### Initializing Attributes"
   ]
  },
  {
   "cell_type": "code",
   "execution_count": 58,
   "metadata": {},
   "outputs": [
    {
     "name": "stdout",
     "output_type": "stream",
     "text": [
      "convertible\n",
      "8\n"
     ]
    }
   ],
   "source": [
    "# see above\n",
    "\n",
    "class Toy():\n",
    "    kind= \"car\"  # this is called a constant \n",
    "\n",
    "    def __init__(self,rooftop,horn,wheels):\n",
    "        self.rooftop=rooftop\n",
    "        self.horn=horn\n",
    "        self.wheels=wheels\n",
    "\n",
    "tonka_truck= Toy(\"convertible\",\"honky\",4)\n",
    "hot_wheels= Toy(1,2,8)\n",
    "\n",
    "print(tonka_truck.rooftop)\n",
    "print(hot_wheels.wheels)\n"
   ]
  },
  {
   "cell_type": "markdown",
   "metadata": {},
   "source": [
    "##### Accessing Class Attributes"
   ]
  },
  {
   "cell_type": "code",
   "execution_count": null,
   "metadata": {
    "scrolled": true
   },
   "outputs": [],
   "source": [
    "# See Above"
   ]
  },
  {
   "cell_type": "markdown",
   "metadata": {},
   "source": [
    "##### Setting Defaults for Attributes"
   ]
  },
  {
   "cell_type": "code",
   "execution_count": 65,
   "metadata": {},
   "outputs": [
    {
     "data": {
      "text/plain": [
       "'blue'"
      ]
     },
     "execution_count": 65,
     "metadata": {},
     "output_type": "execute_result"
    }
   ],
   "source": [
    "class Car():\n",
    "    engine=\"4.7L\"\n",
    "\n",
    "    def __init__(self,wheels):\n",
    "        self.wheels=wheels\n",
    "        self.color=\"blue\"\n",
    "\n",
    "honda= Car(5)\n",
    "\n",
    "honda.color"
   ]
  },
  {
   "cell_type": "markdown",
   "metadata": {},
   "source": [
    "##### Changing Class Attributes <br>\n",
    "<p>Keep in mind there are global class attributes and then there are attributes only available to each class instance which won't effect other classes.</p>"
   ]
  },
  {
   "cell_type": "code",
   "execution_count": 67,
   "metadata": {},
   "outputs": [
    {
     "name": "stdout",
     "output_type": "stream",
     "text": [
      "Before change blue\n",
      "after change perrywinkle\n"
     ]
    }
   ],
   "source": [
    "jeep = Car(8)\n",
    "\n",
    "print(f\"Before change {jeep.color}\")\n",
    "\n",
    "jeep.color=\"perrywinkle\"\n",
    "\n",
    "print(f\"after change {jeep.color}\")"
   ]
  },
  {
   "cell_type": "code",
   "execution_count": null,
   "metadata": {},
   "outputs": [],
   "source": []
  },
  {
   "cell_type": "markdown",
   "metadata": {},
   "source": [
    "##### In-Class Exercise #2 - Add a doors and seats attribute to your 'Car' class then print out two different instances with different doors and seats"
   ]
  },
  {
   "cell_type": "code",
   "execution_count": 103,
   "metadata": {},
   "outputs": [
    {
     "name": "stdout",
     "output_type": "stream",
     "text": [
      "audi seats 44 audi doors 32\n",
      "toyota seats 22 toyota doors 12\n",
      "audi seats 789 audi doors 976\n",
      "toyota seats 332 toyota doors 123\n"
     ]
    }
   ],
   "source": [
    "class Car():\n",
    "\n",
    "    def __init__(self,doors,seats):\n",
    "        self.doors=doors\n",
    "        self.seats=seats\n",
    "\n",
    "\n",
    "audi= Car(32,44)\n",
    "toyota= Car(12,22)\n",
    "\n",
    "print(f\"audi seats {audi.seats} audi doors {audi.doors}\")\n",
    "print(f\"toyota seats {toyota.seats} toyota doors {toyota.doors}\")\n",
    "\n",
    "\n",
    "audi.seats=789\n",
    "audi.doors=976\n",
    "toyota.seats=332\n",
    "toyota.doors=123\n",
    "\n",
    "print(f\"audi seats {audi.seats} audi doors {audi.doors}\")\n",
    "print(f\"toyota seats {toyota.seats} toyota doors {toyota.doors}\")\n",
    "\n",
    "\n",
    "\n",
    "\n",
    "\n",
    "\n",
    "\n",
    "\n",
    "\n",
    "\n"
   ]
  },
  {
   "cell_type": "markdown",
   "metadata": {},
   "source": [
    "## Class Methods <br>\n",
    "<p>While inside of a class, functions are referred to as 'methods'. If you hear someone mention methods, they're speaking about classes. Methods are essentially functions, but only callable on the instances of a class.</p>"
   ]
  },
  {
   "cell_type": "markdown",
   "metadata": {},
   "source": [
    "##### Creating"
   ]
  },
  {
   "cell_type": "code",
   "execution_count": 198,
   "metadata": {},
   "outputs": [],
   "source": [
    "class ShoppingBag():\n",
    "    \"\"\"\n",
    "    The ShoppingBag class will have handles, capacity \n",
    "    and items to place inside\n",
    "\n",
    "    Attributes for this class\n",
    "    - handles:expected to be integer\n",
    "    - capacity: expected to be string or integer\n",
    "    - items: expected to be a list \n",
    "    \"\"\"\n",
    "\n",
    "    def __init__(self,handles,capacity,items):\n",
    "        self.handles = handles\n",
    "        self.capacity = capacity\n",
    "        self.items = items\n",
    "\n",
    "        #write a method that shows the items in bag \n",
    "    def showShoppingBag(self):\n",
    "        print(\"you have items in your bag!\")\n",
    "        for i in self.items:\n",
    "            print(i)\n",
    "\n",
    "        #show the capacity in bag\n",
    "    def showCapacity(self):\n",
    "        print(f\"your capacity is {self.capacity}\")\n",
    "\n",
    "        #add items to the items list for the shopping bag\n",
    "    def addToShoppingBag(self):\n",
    "        products=input(\"what would you like to add?\")\n",
    "        self.items.append(products)\n",
    "\n",
    "        #change the capacity of the shopping bag\n",
    "    def changeBagCapacity(self,capacity):\n",
    "        self.capacity=capacity\n",
    "\n",
    "        #increase the capacity of the shopping bag by a default amount of 10\n",
    "    def increaseCapacity(self,changed_capacity=10):\n",
    "        if self.capacity==isinstance(self.capacity,str):\n",
    "            print(\"we cant add that here\")\n",
    "        else:\n",
    "            self.capacity += changed_capacity\n"
   ]
  },
  {
   "cell_type": "markdown",
   "metadata": {},
   "source": [
    "##### Calling"
   ]
  },
  {
   "cell_type": "code",
   "execution_count": 199,
   "metadata": {},
   "outputs": [
    {
     "name": "stdout",
     "output_type": "stream",
     "text": [
      "you have items in your bag!\n",
      "thanks for shopping\n"
     ]
    }
   ],
   "source": [
    "# See Above\n",
    "# so far we created the idea of the shopping bad, now we will instantiate and make one and use it \n",
    "\n",
    "wholeFoods_Bag=ShoppingBag(2,10,[])\n",
    "\n",
    "\n",
    "\n",
    "#create a function to run the shopping bag method on our whole foods bag instance \n",
    "def run():\n",
    "    while True:\n",
    "        response=input(\"what do you want to do? add/show/quit\")\n",
    "        \n",
    "        if response.lower()==\"quit\":\n",
    "            wholeFoods_Bag.showShoppingBag()\n",
    "            print(\"thanks for shopping\")\n",
    "            break\n",
    "\n",
    "        elif response.lower()==\"add\":\n",
    "            wholeFoods_Bag.addToShoppingBag()\n",
    "\n",
    "        elif response.lower()==\"show\":\n",
    "            wholeFoods_Bag.showShoppingBag()\n",
    "        else:\n",
    "            print(\"try another command\")\n",
    "\n",
    "run()\n"
   ]
  },
  {
   "cell_type": "markdown",
   "metadata": {},
   "source": [
    "##### Modifying an Attribute's Value Through a Method"
   ]
  },
  {
   "cell_type": "code",
   "execution_count": 200,
   "metadata": {},
   "outputs": [
    {
     "name": "stdout",
     "output_type": "stream",
     "text": [
      "your capacity is 10\n",
      "None\n",
      "capacity AFTER the change...\n",
      "your capacity is 40\n"
     ]
    }
   ],
   "source": [
    "# Show the capacity\n",
    "\n",
    "print(wholeFoods_Bag.showCapacity())\n",
    "print(\"capacity AFTER the change...\")\n",
    "wholeFoods_Bag.changeBagCapacity(40)\n",
    "wholeFoods_Bag.showCapacity()"
   ]
  },
  {
   "cell_type": "markdown",
   "metadata": {},
   "source": [
    "##### Incrementing an Attribute's Value Through a Method"
   ]
  },
  {
   "cell_type": "code",
   "execution_count": 206,
   "metadata": {},
   "outputs": [
    {
     "name": "stdout",
     "output_type": "stream",
     "text": [
      "your capacity is 130\n",
      "after increase..\n",
      "your capacity is 187\n"
     ]
    }
   ],
   "source": [
    "wholeFoods_Bag.showCapacity()\n",
    "print(\"after increase..\")\n",
    "wholeFoods_Bag.increaseCapacity(57)\n",
    "wholeFoods_Bag.showCapacity()"
   ]
  },
  {
   "cell_type": "markdown",
   "metadata": {},
   "source": [
    "##### In-Class Exercise #3 - Add a method that takes in three parameters of year, doors and seats and prints out a formatted print statement with make, model, year, seats, and doors"
   ]
  },
  {
   "cell_type": "code",
   "execution_count": 242,
   "metadata": {},
   "outputs": [
    {
     "name": "stdout",
     "output_type": "stream",
     "text": [
      "This car is from 1965 and is a ford mustang and has 75 doors and 224 seats\n"
     ]
    }
   ],
   "source": [
    "# Create class with 2 paramters inside of the __init__ which are make and model\n",
    "\n",
    "# Inside of the Car class create a method that has 4 parameter in total (self,year,door,seats)\n",
    "\n",
    "# Output: This car is from 2019 and is a Ford Expolorer and has 4 doors and 5 seats\n",
    "\n",
    "\n",
    "class CAR():\n",
    "    \"\"\"this class will have 2 parameters which are make and model of a car\n",
    "    - make and model are expected to be inputted as strings\n",
    "    \"\"\"\n",
    "\n",
    "    def __init__(self,make,model):\n",
    "        self.make=make\n",
    "        self.model=model\n",
    "\n",
    "    def addCarInfo(self,year,door,seats):\n",
    "        self.year=year\n",
    "        self.door=door\n",
    "        self.seats=seats\n",
    "\n",
    "\n",
    "\n",
    "jonsCar= CAR(\"ford\",\"mustang\")\n",
    "\n",
    "# jonsCar.addCarInfo(1965,2,4)\n",
    "\n",
    "def Runner():\n",
    "    while True:\n",
    "        jonsCar.year=input(\"what year is your car?\")\n",
    "        jonsCar.door=input(\"how many doors?\")\n",
    "        jonsCar.seats=input(\"how many seats?\")\n",
    "        print(f\"This car is from {jonsCar.year} and is a {jonsCar.make} {jonsCar.model} and has {jonsCar.door} doors and {jonsCar.seats} seats\")\n",
    "        break\n",
    "Runner()\n",
    "\n",
    "\n"
   ]
  },
  {
   "cell_type": "markdown",
   "metadata": {},
   "source": [
    "## Inheritance <br>\n",
    "<p>You can create a child-parent relationship between two classes by using inheritance. What this allows you to do is have overriding methods, but also inherit traits from the parent class. Think of it as an actual parent and child, the child will inherit the parent's genes, as will the classes in OOP</p>"
   ]
  },
  {
   "cell_type": "markdown",
   "metadata": {},
   "source": [
    "##### Syntax for Inheriting from a Parent Class"
   ]
  },
  {
   "cell_type": "code",
   "execution_count": 264,
   "metadata": {},
   "outputs": [
    {
     "name": "stdout",
     "output_type": "stream",
     "text": [
      "Bark\n",
      "15\n",
      "15\n"
     ]
    }
   ],
   "source": [
    "# create a parent class and call in Animal\n",
    "\n",
    "class Animal():\n",
    "    acceleration=9.8\n",
    "\n",
    "    def __init__(self,name,species,legs=4):\n",
    "        self.name=name\n",
    "        self.species=species\n",
    "        self.legs=legs\n",
    "\n",
    "    # generic parent method- this doesnt overide anything\n",
    "    def makeSound(self):\n",
    "        print(\"make some generic sound\")\n",
    "\n",
    "# now were making a child class....dog\n",
    "class Dog(Animal):\n",
    "    speed=15\n",
    "\n",
    "    def printInfo(self):\n",
    "        print(f\"The Dog has {self.speed} mph in speed and {self.acceleration}\")\n",
    "\n",
    "\n",
    "# now were making a grandchild class --Mutt\n",
    "\n",
    "class Mutt(Dog):\n",
    "    color=\"tan\"\n",
    "\n",
    "    #override the animal class- using the dog class to overwrite the __init__ from animal \n",
    "\n",
    "    def __init__(self,name,species,eye_color,legs=4):\n",
    "        Dog.__init__(self,name,species,legs)\n",
    "        self.eye_color=eye_color\n",
    "\n",
    "    #override the makesound method which is coming from Animal\n",
    "    def makeSound(self):\n",
    "        noise=\"Bark\"\n",
    "        return noise \n",
    "\n",
    "\n",
    "lassie= Dog(\"Lassie\",\"Dog\")\n",
    "basic_animal=Animal(\"Generic Animal Name\", \"Generic Animal Species\")\n",
    "buster= Mutt(\"Buster\",\"Mutt\",\"Brown\")\n",
    "\n",
    "print(buster.makeSound())\n",
    "print(lassie.speed)\n",
    "print(buster.speed)\n"
   ]
  },
  {
   "cell_type": "markdown",
   "metadata": {},
   "source": [
    "##### The \\__init\\__() Method for a Child Class - super()"
   ]
  },
  {
   "cell_type": "code",
   "execution_count": 268,
   "metadata": {
    "scrolled": true
   },
   "outputs": [
    {
     "name": "stdout",
     "output_type": "stream",
     "text": [
      "Bark\n",
      "15\n",
      "15\n"
     ]
    }
   ],
   "source": [
    "class Puppy(Dog):\n",
    "    color=\"black and brown\"\n",
    "\n",
    "    #overrride the Animal Class __init__(via dog class)\n",
    "\n",
    "    def __init__(self,name,species,eye_color,legs=4):\n",
    "        super().__init__(name,species,legs)\n",
    "        self.eye=eye_color\n",
    "\n",
    "        #overwrite the make sound from animal class \n",
    "        def makeSound(self):\n",
    "            noise=\"Bark\"\n",
    "            return noise \n",
    "\n",
    "print(buster.makeSound())\n",
    "print(lassie.speed)\n",
    "print(buster.speed)"
   ]
  },
  {
   "cell_type": "markdown",
   "metadata": {},
   "source": [
    "##### Defining Attributes and Methods for the Child Class"
   ]
  },
  {
   "cell_type": "code",
   "execution_count": null,
   "metadata": {},
   "outputs": [],
   "source": [
    "# See Above"
   ]
  },
  {
   "cell_type": "markdown",
   "metadata": {},
   "source": [
    "##### Method Overriding"
   ]
  },
  {
   "cell_type": "code",
   "execution_count": null,
   "metadata": {},
   "outputs": [],
   "source": [
    "# See Above"
   ]
  },
  {
   "cell_type": "markdown",
   "metadata": {},
   "source": [
    "## Classes as Attributes <br>\n",
    "<p>Classes can also be used as attributes within another class. This is useful in situations where you need to keep variables locally stored, instead of globally stored.</p>"
   ]
  },
  {
   "cell_type": "code",
   "execution_count": 276,
   "metadata": {},
   "outputs": [
    {
     "name": "stdout",
     "output_type": "stream",
     "text": [
      "28\n"
     ]
    }
   ],
   "source": [
    "class Battery():\n",
    "    volts=7.8\n",
    "\n",
    "    def __init__(self,cells):\n",
    "        self.cells=cells\n",
    "    \n",
    "class Car():\n",
    "    def __init__(self,year,make,model,battery):\n",
    "        self.year=year\n",
    "        self.make=make\n",
    "        self.model=model\n",
    "        self.battery=battery\n",
    "\n",
    "    def printInfo(self):\n",
    "        return f\"{self.year} {self.make} {self.model} {self.battery.cells}\"\n",
    "\n",
    "my_battery= Battery(28)\n",
    "\n",
    "\n",
    "tesla= Car(\"2019\",\"tesla\",\"model x\",my_battery )\n",
    "\n",
    "print(tesla.battery.cells)\n",
    "\n"
   ]
  },
  {
   "cell_type": "markdown",
   "metadata": {},
   "source": [
    "# Exercises"
   ]
  },
  {
   "cell_type": "markdown",
   "metadata": {},
   "source": [
    "### Exercise 1 - Turn the shopping cart program from yesterday into an object-oriented program\n",
    "\n",
    "The comments in the cell below are there as a guide for thinking about the problem. However, if you feel a different way is best for you and your own thought process, please do what feels best for you by all means."
   ]
  },
  {
   "cell_type": "code",
   "execution_count": 310,
   "metadata": {},
   "outputs": [
    {
     "name": "stdout",
     "output_type": "stream",
     "text": [
      "eggs\n",
      "chips\n",
      "eggs\n",
      "thanks for shopping with us\n"
     ]
    }
   ],
   "source": [
    "# Create a class called cart that retains items and has methods to add, remove, and show\n",
    "\n",
    "class Cart():\n",
    "    \n",
    "    def __init__(self,items):\n",
    "        self.items=items \n",
    "\n",
    "    #shows items in the cart\n",
    "    def showItems(self):\n",
    "        for i in self.items:\n",
    "            print(i)\n",
    "\n",
    "    #add items to the cart\n",
    "    def addItems(self):\n",
    "        newItem=input(\"what do you want to add to the cart?\")\n",
    "        self.items.append(newItem)\n",
    "\n",
    "    #remove items from cart\n",
    "    def removeItem(self):\n",
    "        removeItems=input(\"what do you want to remove?\")\n",
    "        self.items.remove(removeItems)\n",
    "\n",
    "\n",
    "\n",
    "JonsCart = Cart([])\n",
    "\n",
    "def Run():\n",
    "    while True:\n",
    "        Response=input(\"do you want to add/show/remove or quit?\")\n",
    "\n",
    "        if Response.lower()==\"add\":\n",
    "            JonsCart.addItems()\n",
    "\n",
    "        elif Response.lower()==\"show\":\n",
    "            JonsCart.showItems()\n",
    "        \n",
    "        elif Response.lower()==\"remove\":\n",
    "            JonsCart.removeItem()\n",
    "        \n",
    "        elif Response.lower()==\"quit\":\n",
    "            print(\"thanks for shopping with us\")\n",
    "            break \n",
    "\n",
    "        else:\n",
    "            print(\"type add/show/remove or quit\")\n",
    "\n",
    "\n",
    "Run()\n",
    "\n",
    "\n",
    "    "
   ]
  },
  {
   "cell_type": "markdown",
   "metadata": {},
   "source": [
    "### Exercise 2 - Write a Python class which has two methods get_String and print_String. get_String accept a string from the user and print_String print the string in upper case"
   ]
  },
  {
   "cell_type": "code",
   "execution_count": 2,
   "metadata": {},
   "outputs": [
    {
     "name": "stdout",
     "output_type": "stream",
     "text": [
      "FIRST\n",
      "SECOND\n",
      "THIRD AND FINAL\n"
     ]
    }
   ],
   "source": [
    "class journal ():\n",
    "\n",
    "    def __init__(self,text):\n",
    "        self.text=text\n",
    "\n",
    "    def acceptText(self):\n",
    "        userInfo=input(\"what text you want to add?\")\n",
    "        self.text.append(userInfo)\n",
    "\n",
    "    def printStuff(self):\n",
    "        for i in self.text:\n",
    "            print(i.upper())\n",
    "\n",
    "\n",
    "\n",
    "jonsThoughts= journal([])\n",
    "\n",
    "def running():\n",
    "    while True:\n",
    "\n",
    "        response=input(\"would you like to add/print or quit?\")\n",
    "\n",
    "        if response==\"add\":\n",
    "            jonsThoughts.acceptText()\n",
    "        \n",
    "        elif response==\"print\":\n",
    "            jonsThoughts.printStuff()\n",
    "            \n",
    "        \n",
    "        elif response==\"quit\":\n",
    "            break\n",
    "        \n",
    "        else:\n",
    "            print(\"type add, print, or quit\")\n",
    "\n",
    "running()\n",
    "        \n",
    "\n"
   ]
  }
 ],
 "metadata": {
  "kernelspec": {
   "display_name": "Python 3",
   "language": "python",
   "name": "python3"
  },
  "language_info": {
   "codemirror_mode": {
    "name": "ipython",
    "version": 3
   },
   "file_extension": ".py",
   "mimetype": "text/x-python",
   "name": "python",
   "nbconvert_exporter": "python",
   "pygments_lexer": "ipython3",
   "version": "3.11.5"
  }
 },
 "nbformat": 4,
 "nbformat_minor": 2
}
